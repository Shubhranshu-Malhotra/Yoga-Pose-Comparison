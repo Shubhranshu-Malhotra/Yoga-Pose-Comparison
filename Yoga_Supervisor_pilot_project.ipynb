{
  "nbformat": 4,
  "nbformat_minor": 0,
  "metadata": {
    "colab": {
      "name": "Yoga Supervisor pilot project",
      "provenance": [],
      "collapsed_sections": [],
      "mount_file_id": "1-0-vvHeixIaE7UPq26Jfg9QvQWFbU5Lg",
      "authorship_tag": "ABX9TyOXmyXJBfEFYPZ1S0uGP0Zz",
      "include_colab_link": true
    },
    "kernelspec": {
      "name": "python3",
      "display_name": "Python 3"
    },
    "language_info": {
      "name": "python"
    }
  },
  "cells": [
    {
      "cell_type": "markdown",
      "metadata": {
        "id": "view-in-github",
        "colab_type": "text"
      },
      "source": [
        "<a href=\"https://colab.research.google.com/github/Shubhranshu-Malhotra/Yoga-Supervisor/blob/main/Yoga_Supervisor_pilot_project.ipynb\" target=\"_parent\"><img src=\"https://colab.research.google.com/assets/colab-badge.svg\" alt=\"Open In Colab\"/></a>"
      ]
    },
    {
      "cell_type": "code",
      "metadata": {
        "id": "INOK4sUaqXEt"
      },
      "source": [
        "import cv2"
      ],
      "execution_count": 20,
      "outputs": []
    },
    {
      "cell_type": "code",
      "metadata": {
        "id": "WwWmPb_vqJPP"
      },
      "source": [
        "# # Opens the Video file\n",
        "# cap= cv2.VideoCapture('C:/New/Videos/Play.mp4')\n",
        "# i=0\n",
        "# while(cap.isOpened()):\n",
        "#     ret, frame = cap.read()\n",
        "#     if ret == False:\n",
        "#         break\n",
        "#     cv2.imwrite('kang'+str(i)+'.jpg',frame)\n",
        "#     i+=1\n",
        " \n",
        "# cap.release()\n",
        "# cv2.destroyAllWindows()"
      ],
      "execution_count": 21,
      "outputs": []
    },
    {
      "cell_type": "code",
      "metadata": {
        "id": "DBHZSbQ8qRg4"
      },
      "source": [
        "# vid_cap= cv2.VideoCapture('/content/drive/MyDrive/Datasets/yoga_supervisor/yoga_videos/yoga_1.mp4')\n",
        "# sec = 10\n",
        "# count = 1\n",
        "# vid_cap.set(cv2.CAP_PROP_POS_MSEC,sec*1000)\n",
        "# hasFrames,image = vid_cap.read()\n",
        "# if hasFrames:\n",
        "#     cv2.imwrite(\"/content/drive/MyDrive/Datasets/yoga_supervisor/extracted_images/image\"+str(count)+\".jpg\", image)\n",
        "# print(vid_cap.get(cv2.CAP_PROP_POS_MSEC)/1000)"
      ],
      "execution_count": 22,
      "outputs": []
    },
    {
      "cell_type": "code",
      "metadata": {
        "colab": {
          "base_uri": "https://localhost:8080/"
        },
        "id": "w79UDOkwwSd-",
        "outputId": "ba0ae046-98b3-48b2-8d2a-deb7bf5768b8"
      },
      "source": [
        "from google.colab.patches import cv2_imshow\n",
        "vid_path = \"/content/drive/MyDrive/Datasets/yoga_supervisor/yoga_videos/\"\n",
        "images_path = '/content/drive/MyDrive/Datasets/yoga_supervisor/extracted_images/yoga_1/'\n",
        "start_time = 32\n",
        "end_time = 55\n",
        "current_time = 32\n",
        "cap_count = 1\n",
        "frame_rate = 0.1 # take `1/frame_rate` images per second\n",
        "vid_cap= cv2.VideoCapture(vid_path + 'yoga_1.mp4')\n",
        "vid_cap.set(cv2.CAP_PROP_POS_MSEC,start_time*1000)\n",
        "# while (vid_cap.get(cv2.CAP_PROP_POS_MSEC)/1000 < end_time):\n",
        "while(current_time<=end_time):\n",
        "  vid_cap.set(cv2.CAP_PROP_POS_MSEC,current_time*1000)\n",
        "  ret, image = vid_cap.read()\n",
        "  if ret == False:\n",
        "      break\n",
        "  if(cap_count%10 == 0):\n",
        "    print(f\"Saved {cap_count} images.\")\n",
        "    print(f\"Current video time: {current_time:.2f}\")\n",
        "  # cv2_imshow(image)\n",
        "  cv2.imwrite(images_path + \"image_\" + str(cap_count) + \".jpg\", image)\n",
        "  cap_count+=1\n",
        "  current_time += frame_rate\n",
        "print(\"stopped at : \", current_time-0.1 )\n",
        "print(f\"saved {cap_count-1} images.\")"
      ],
      "execution_count": 26,
      "outputs": [
        {
          "output_type": "stream",
          "text": [
            "Saved 10 images.\n",
            "Current video time: 32.90\n",
            "Saved 20 images.\n",
            "Current video time: 33.90\n",
            "Saved 30 images.\n",
            "Current video time: 34.90\n",
            "Saved 40 images.\n",
            "Current video time: 35.90\n",
            "Saved 50 images.\n",
            "Current video time: 36.90\n",
            "Saved 60 images.\n",
            "Current video time: 37.90\n",
            "Saved 70 images.\n",
            "Current video time: 38.90\n",
            "Saved 80 images.\n",
            "Current video time: 39.90\n",
            "Saved 90 images.\n",
            "Current video time: 40.90\n",
            "Saved 100 images.\n",
            "Current video time: 41.90\n",
            "Saved 110 images.\n",
            "Current video time: 42.90\n",
            "Saved 120 images.\n",
            "Current video time: 43.90\n",
            "Saved 130 images.\n",
            "Current video time: 44.90\n",
            "Saved 140 images.\n",
            "Current video time: 45.90\n",
            "Saved 150 images.\n",
            "Current video time: 46.90\n",
            "Saved 160 images.\n",
            "Current video time: 47.90\n",
            "Saved 170 images.\n",
            "Current video time: 48.90\n",
            "Saved 180 images.\n",
            "Current video time: 49.90\n",
            "Saved 190 images.\n",
            "Current video time: 50.90\n",
            "Saved 200 images.\n",
            "Current video time: 51.90\n",
            "Saved 210 images.\n",
            "Current video time: 52.90\n",
            "Saved 220 images.\n",
            "Current video time: 53.90\n",
            "Saved 230 images.\n",
            "Current video time: 54.90\n",
            "stopped at :  54.900000000000325\n",
            "saved 230 images.\n"
          ],
          "name": "stdout"
        }
      ]
    },
    {
      "cell_type": "code",
      "metadata": {
        "id": "vfHbqGWx2Q21"
      },
      "source": [
        ""
      ],
      "execution_count": null,
      "outputs": []
    }
  ]
}