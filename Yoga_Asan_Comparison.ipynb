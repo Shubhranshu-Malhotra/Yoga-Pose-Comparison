{
  "nbformat": 4,
  "nbformat_minor": 0,
  "metadata": {
    "colab": {
      "name": "Yoga Asan Comparison",
      "provenance": [],
      "collapsed_sections": [
        "cJNh8qiH7OBU",
        "YTFwbmCm-i7Y",
        "vfHbqGWx2Q21",
        "s8WulrqYzpWm",
        "B-oNqA8De1QK"
      ],
      "toc_visible": true,
      "mount_file_id": "1WnqfmmIA-CUg7x_75oGtGf0yznLKPeDs",
      "authorship_tag": "ABX9TyMnuowBbrRMeU/dlq5XViDP",
      "include_colab_link": true
    },
    "kernelspec": {
      "display_name": "Python 3",
      "name": "python3"
    },
    "language_info": {
      "name": "python"
    }
  },
  "cells": [
    {
      "cell_type": "markdown",
      "metadata": {
        "id": "view-in-github",
        "colab_type": "text"
      },
      "source": [
        "<a href=\"https://colab.research.google.com/github/Shubhranshu-Malhotra/Yoga-Pose-Comparison/blob/main/Yoga_Asan_Comparison.ipynb\" target=\"_parent\"><img src=\"https://colab.research.google.com/assets/colab-badge.svg\" alt=\"Open In Colab\"/></a>"
      ]
    },
    {
      "cell_type": "markdown",
      "metadata": {
        "id": "XwQ2TsgX7Ksb"
      },
      "source": [
        "# Yoga Asan Comparison\n",
        "\n",
        "This project employs pose estimation and pose similarity comparison in order to detect if the asan being done in 2 given videos given asan video and a reference video) is same or not.   \n",
        "We also check the asan being done for correctness. By comparing a given video to the reference video we calculate a similarity score for joint movements in the two videos. A threshold can then be set and if value of a joint movement similarity drops below that threshold then the user can be told that there is a problem in his movement of a particular joint during the asan.\n",
        "\n",
        "\n",
        "### Dataset:\n",
        "Reference and comparison videos obtained from youtube.\n",
        "### Steps involved:\n",
        "1.   Extraction of images from the provided video.  \n",
        "     *   Capturing images from a given video at regular intervals.\n",
        "2.   Detection of pose and acquiring keypoints from images in a video.  \n",
        "     *   Using `tf_pose` to get keypoints from an image.\n",
        "     *   Converting keypoints obtained to same length (18) by substituting missed keypoints with (0,0).\n",
        "3.   Similarity Comparison between movement of joints in 2 videos. \n",
        "     *   Obtaining joint positions w.r.t. time from the video images keypoints.\n",
        "     *   Using **'Dynamic Time Warping'** to compare similarity between movement of two joints over time."
      ]
    },
    {
      "cell_type": "markdown",
      "metadata": {
        "id": "cJNh8qiH7OBU"
      },
      "source": [
        "## Imports"
      ]
    },
    {
      "cell_type": "code",
      "metadata": {
        "id": "VMwkp_nthFVI"
      },
      "source": [
        "!pip install tf_pose\n",
        "!pip install dtaidistance"
      ],
      "execution_count": 1,
      "outputs": []
    },
    {
      "cell_type": "code",
      "metadata": {
        "id": "INOK4sUaqXEt"
      },
      "source": [
        "import cv2\n",
        "import matplotlib.pyplot as plt\n",
        "# import tensorflow as tf\n",
        "import os\n",
        "# import sys\n",
        "# import time\n",
        "# import logging\n",
        "import numpy as np\n",
        "from dtaidistance import dtw, dtw_ndim\n",
        "from tf_pose import common\n",
        "from tf_pose.estimator import TfPoseEstimator\n",
        "from tf_pose.networks import get_graph_path, model_wh"
      ],
      "execution_count": null,
      "outputs": []
    },
    {
      "cell_type": "markdown",
      "metadata": {
        "id": "YTFwbmCm-i7Y"
      },
      "source": [
        "## Step 1: Extract images from video \n",
        "**Warning:** This cell should only be run once to extract images and save to folder on drive.  \n",
        "*  Extract images between `start_time` and `end_time`.  \n",
        "*  Set a frame rate to limit the number of images being extracted each second.  \n",
        "\n",
        "Reference: [Convert Video to Images (Frames) & Images (Frames) to Video using OpenCV (Python)](https://medium.com/@iKhushPatel/convert-video-to-images-images-to-video-using-opencv-python-db27a128a481)"
      ]
    },
    {
      "cell_type": "code",
      "metadata": {
        "id": "RmqOc7sqnkIV"
      },
      "source": [
        "# Function to extract images from video\n",
        "\n",
        "def img_from_vid (video_path, image_path, dictionary, frame_rate):\n",
        "  \"\"\"\n",
        "  Reads a given video and saves images from it at a specified frame rate.\n",
        "  Inputs:\n",
        "  vid_path: Path where the video is saved\n",
        "  img_path: The path to save images\n",
        "  dictionary: `{'<SUBFOLDER>: (<START TIME>, <END TIME>)'}`\n",
        "              START TIME and END TIME must be in seconds.\n",
        "              Contains the list of subfolders and the start and end time of the video \n",
        "              during which images should be saved into that subfolder. \n",
        "              If all images should be saved in a single folder Enter a single name and \n",
        "              specify 0 as START TIME and video's length as END TIME\n",
        "  frame_rate: save `1/frame_rate` images per second\n",
        "  Outputs: Saves images from the videos to the specified subfolders.\n",
        "  \"\"\"\n",
        "  vid_cap = cv2.VideoCapture(video_path)\n",
        "  # frame_rate = 0.2 # take `1/frame_rate` images per second\n",
        "  for name, time in dictionary.items():\n",
        "    print(f\"Starting {name}...\")\n",
        "    \n",
        "    img_path = image_path + name + \"/\"\n",
        "    if not os.path.exists(img_path):\n",
        "      os.makedirs(img_path)\n",
        "    current_time, end_time = time\n",
        "    \n",
        "    img_count = 1\n",
        "    \n",
        "    while(current_time <= end_time):\n",
        "      \n",
        "      vid_cap.set(cv2.CAP_PROP_POS_MSEC,current_time*1000)\n",
        "      ret, img = vid_cap.read()\n",
        "      if ret == False:\n",
        "        print(\"vid_cap.read() didn't return anything.\")\n",
        "        break\n",
        "\n",
        "      cv2.imwrite(img_path + \"image_\" + str(img_count) + \".jpg\", img)\n",
        "      \n",
        "      if(img_count % 50 == 0):\n",
        "        print(f\"Saved {img_count} images.\")\n",
        "        print(f\"Current video time: {current_time:.2f}\")\n",
        "      \n",
        "      img_count += 1\n",
        "      current_time += frame_rate\n",
        "    \n",
        "    print(f\"{name} has been completed\")\n",
        "    print(\"stopped at : \", current_time - frame_rate)\n",
        "    print(f\"saved {img_count - 1} images.\")"
      ],
      "execution_count": null,
      "outputs": []
    },
    {
      "cell_type": "code",
      "metadata": {
        "id": "e6YNw-F4dbEN"
      },
      "source": [
        "# vid_save_path = \"/content/drive/MyDrive/Datasets/yoga_supervisor/yoga_videos/random_yoga_1.mp4\"\n",
        "# img_save_path = '/content/drive/MyDrive/Datasets/yoga_supervisor/extracted_images/random_yoga_1/'\n",
        "\n",
        "surya_namaskar_1_rounds = {'surya_namaskar_1_1_R': (172,221),\n",
        "                         'surya_namaskar_1_1_L': (221,276),\n",
        "                         'surya_namaskar_1_2_R': (280,330),\n",
        "                         'surya_namaskar_1_2_L': (330,384)}\n",
        "\n",
        "surya_namaskar_2_rounds = {'surya_namaskar_2_1_R': (40,103),\n",
        "                         'surya_namaskar_2_1_L': (106,148),\n",
        "                         'surya_namaskar_2_2_R': (154,187),\n",
        "                         'surya_namaskar_2_2_L': (187,221),\n",
        "                         'surya_namaskar_2_3_R': (223,256),\n",
        "                         'surya_namaskar_2_3_L': (257,294),\n",
        "                         'surya_namaskar_2_4_R': (299,334),\n",
        "                         'surya_namaskar_2_4_L': (334,373),\n",
        "                         'surya_namaskar_2_5_R': (380,413),\n",
        "                         'surya_namaskar_2_5_L': (413,448),\n",
        "                         'surya_namaskar_2_6_R': (449,484),\n",
        "                         'surya_namaskar_2_6_L': (485,519)}\n",
        "random_yoga_1_rounds = { 'random_yoga_1_1': (30, 55),\n",
        "                         'random_yoga_1_2': (55, 73),\n",
        "                         'random_yoga_1_3': (73, 90),\n",
        "                         'random_yoga_1_4': (90, 106)}"
      ],
      "execution_count": null,
      "outputs": []
    },
    {
      "cell_type": "code",
      "metadata": {
        "id": "mtIKk9C6lyT8"
      },
      "source": [
        "# img_from_vid(vid_save_path, img_save_path, surya_namaskar_1_rounds, 0.2)"
      ],
      "execution_count": null,
      "outputs": []
    },
    {
      "cell_type": "markdown",
      "metadata": {
        "id": "vfHbqGWx2Q21"
      },
      "source": [
        "## Step 2: Detect pose in image\n",
        "In order to compare if the asan is being done correctly or not, we first need to detect the keypoints (the joint positions) for each image in the video."
      ]
    },
    {
      "cell_type": "code",
      "metadata": {
        "id": "5mZQjqkALFt-"
      },
      "source": [
        "global_image_path = '/content/drive/MyDrive/Datasets/yoga_supervisor/model_image.png'\n",
        "model='mobilenet_thin'\n",
        "resize='432x368'\n",
        "global_image = common.read_imgfile(global_image_path, None, None)\n",
        "w, h = model_wh(resize)\n",
        "global_e = TfPoseEstimator(get_graph_path(model), target_size=(w, h))\n",
        "# plt.imshow(global_image)\n",
        "global_humans = global_e.inference(global_image, resize_to_default=(w > 0 and h > 0), upsample_size=4.0)\n"
      ],
      "execution_count": null,
      "outputs": []
    },
    {
      "cell_type": "code",
      "metadata": {
        "id": "O7styMx4qxOH"
      },
      "source": [
        "def show_pose_keypoints(image_path, estimator = global_e, color='orange', show_BG = 'original'):\n",
        "    \"\"\"\n",
        "    takes in image and relative keypoint values and \n",
        "    displays image with skeleton and kepoints on it.\n",
        "    \"\"\"\n",
        "    \n",
        "    image = common.read_imgfile(image_path, None, None)\n",
        "    humans = estimator.inference(image, resize_to_default=(w > 0 and h > 0), upsample_size=4.0)\n",
        "    if not humans:\n",
        "      return (np.zeros((18,2)))\n",
        "    if show_BG == 'original':\n",
        "      pass\n",
        "    elif show_BG == 'black':\n",
        "      image = np.zeros(image.shape)\n",
        "    elif show_BG == 'white':\n",
        "      image = 255*np.ones(image.shape)\n",
        "    else:\n",
        "      return \"Please enter a valid value for 'show_BG'. 'show_BG' can take following values: 'original','black','white'.\"\n",
        "    image = cv2.cvtColor(image.astype(np.uint8), cv2.COLOR_BGR2RGB)\n",
        "    image = TfPoseEstimator.draw_humans(image, humans, imgcopy=False)\n",
        "    keypoints = str(humans[0]).split('BodyPart:')[1:]\n",
        "    keypoints_list=[]\n",
        "    bad_chars = \"-( )\"\n",
        "    x = keypoints[0][:-11]\n",
        "    for i in range (len(keypoints)):\n",
        "      x = keypoints[i][:-11]\n",
        "      useful = x.translate(x.maketrans(\"\", \"\", bad_chars))\n",
        "      keypt = useful[-9:]\n",
        "      keypt = tuple(map(float, keypt.split(',')))\n",
        "      keypoints_list.append(keypt)\n",
        "\n",
        "    keypts_array = np.array(keypoints_list)\n",
        "    keypts_array = keypts_array*(image.shape[1],image.shape[0])\n",
        "    keypts_array = keypts_array.astype(int)\n",
        "    keypts_array\n",
        "\n",
        "    plt.figure(figsize=(10,10))\n",
        "    plt.axis([0, image.shape[1], 0, image.shape[0]])  \n",
        "    \n",
        "    # if show_BG == 'black' or show_BG == 'original':\n",
        "    #   plt.imshow(image)\n",
        "    # elif show_BG == 'white':\n",
        "    #   pass\n",
        "    plt.imshow(image)\n",
        "    plt.scatter(*zip(*keypts_array), s=200, color=color, alpha=0.6)\n",
        "    ax=plt.gca() \n",
        "    ax.set_ylim(ax.get_ylim()[::-1]) \n",
        "    ax.xaxis.tick_top() \n",
        "    plt.title('{} keypoints detected\\n'.format(len(keypts_array)))\n",
        "    plt.grid();\n",
        "    plt.axis('off')\n",
        "    for i, txt in enumerate(keypts_array):\n",
        "        ax.annotate(i, (keypts_array[i][0]-5, keypts_array[i][1]+5))\n",
        "            \n",
        "    return keypts_array"
      ],
      "execution_count": null,
      "outputs": []
    },
    {
      "cell_type": "code",
      "metadata": {
        "colab": {
          "base_uri": "https://localhost:8080/",
          "height": 623
        },
        "id": "wlVgceimsRUR",
        "outputId": "063a0c15-1d1b-4475-8c23-970c9aad6ecb"
      },
      "source": [
        "x = show_pose_keypoints(global_image_path, show_BG = 'black')"
      ],
      "execution_count": null,
      "outputs": [
        {
          "output_type": "display_data",
          "data": {
            "image/png": "[encoded data removed]",
            "text/plain": [
              "<Figure size 720x720 with 1 Axes>"
            ]
          },
          "metadata": {
            "tags": [],
            "needs_background": "light"
          }
        }
      ]
    },
    {
      "cell_type": "markdown",
      "metadata": {
        "id": "bqHD0MEFxtmW"
      },
      "source": [
        "### Get Keypoints for the images in the complete video"
      ]
    },
    {
      "cell_type": "code",
      "metadata": {
        "id": "c3i-6lVLpeF4"
      },
      "source": [
        "surya_namaskar_1_rounds_list = ['surya_namaskar_1_1_R','surya_namaskar_1_1_L','surya_namaskar_1_2_R',\n",
        "                                'surya_namaskar_1_2_L']\n",
        "\n",
        "surya_namaskar_2_rounds_list = ['surya_namaskar_2_1_R','surya_namaskar_2_1_L','surya_namaskar_2_2_R',\n",
        "                                'surya_namaskar_2_2_L','surya_namaskar_2_3_R','surya_namaskar_2_3_L',\n",
        "                                'surya_namaskar_2_4_R','surya_namaskar_2_4_L','surya_namaskar_2_5_R',\n",
        "                                'surya_namaskar_2_5_L','surya_namaskar_2_6_R','surya_namaskar_2_6_L']\n",
        "random_yoga_1_rounds_list = [ 'random_yoga_1_1','random_yoga_1_2','random_yoga_1_3','random_yoga_1_4']"
      ],
      "execution_count": null,
      "outputs": []
    },
    {
      "cell_type": "code",
      "metadata": {
        "id": "-6JkJS8_xv6F"
      },
      "source": [
        "def save_keypoints_dict(file_path, keypts_dictionary):\n",
        "  \"\"\"\n",
        "  Saves keypoints dictionary to a pickle file.\n",
        "  Input:\n",
        "  file_path = file path with extension\n",
        "  keypts_dictionary: A dictionary with folder name as key and the \n",
        "                     keypoints of images inside the folder as its value. \n",
        "  Output: save the dictionary to file path\n",
        "  \"\"\"\n",
        "  import pickle\n",
        "  f = open(file_path,\"wb\")\n",
        "  pickle.dump(keypts_dictionary,f)\n",
        "  f.close()"
      ],
      "execution_count": null,
      "outputs": []
    },
    {
      "cell_type": "code",
      "metadata": {
        "id": "UXRFECkxxv6F"
      },
      "source": [
        "def load_keypoints_dict(file_path):\n",
        "  \"\"\"\n",
        "  Takes file path with extension as input and returns the loaded file.\n",
        "  \"\"\"\n",
        "  import pickle\n",
        "  with open(file_path, 'rb') as f:\n",
        "      return pickle.load(f)"
      ],
      "execution_count": null,
      "outputs": []
    },
    {
      "cell_type": "code",
      "metadata": {
        "id": "TL15f3XxyBoh"
      },
      "source": [
        "def img_keypoints(image, humans):\n",
        "  \"\"\"\n",
        "    Converts relative keypoints received by `estimator.inference()` \n",
        "    to 18 absolute key points for the image.\n",
        "  \"\"\"\n",
        "\n",
        "  if not humans:\n",
        "        return (np.zeros((18,2)))\n",
        "  keypoints = str(humans[0]).split('BodyPart:')[1:]\n",
        "  keypoints_list=[]\n",
        "  bad_chars = \"-( )\"\n",
        "  j = 0\n",
        "  x = keypoints[0][:-11]\n",
        "  for i in range (18):\n",
        "    x = keypoints[j][:-11]\n",
        "    useful = x.translate(x.maketrans(\"\", \"\", bad_chars))\n",
        "    k = int(useful[:-9])\n",
        "    if(i != k):\n",
        "      keypoints_list.append((0,0))\n",
        "      continue\n",
        "    keypt = useful[-9:]\n",
        "    keypt = tuple(map(float, keypt.split(',')))\n",
        "    keypoints_list.append(keypt)\n",
        "    if(j<len(keypoints)-1):\n",
        "      j+=1\n",
        "\n",
        "  keypts_array = np.array(keypoints_list)\n",
        "  keypts_array = keypts_array*(image.shape[1],image.shape[0])\n",
        "  keypts_array = keypts_array.astype(int)\n",
        "  keypts_array\n",
        "  return keypts_array"
      ],
      "execution_count": null,
      "outputs": []
    },
    {
      "cell_type": "code",
      "metadata": {
        "id": "1pTi3Is3yBoi"
      },
      "source": [
        "def get_keypoints(image_path, estimator):\n",
        "  \"\"\"\n",
        "  Takes image patha nd estimator as input.\n",
        "  Returns an array with 18 keypoints for all the images in the path passed.\n",
        "  (Uses the `get_keypoints()` function internally)\n",
        "  \"\"\"\n",
        "  all_keypoints = []\n",
        "  for image in os.listdir(image_path):\n",
        "      img = common.read_imgfile(image_path + image, None, None)\n",
        "      print(image)\n",
        "      humans_joints = estimator.inference(img,\n",
        "                          resize_to_default=(w > 0 and h > 0),\n",
        "                          upsample_size=4.0)\n",
        "      keypts_array = img_keypoints(img, humans_joints)\n",
        "      all_keypoints.append(keypts_array)\n",
        "      if(len(all_keypoints)%50 == 0):\n",
        "        print(f\"Keypoints from {len(all_keypoints)} images loaded.\")\n",
        "  return all_keypoints"
      ],
      "execution_count": null,
      "outputs": []
    },
    {
      "cell_type": "code",
      "metadata": {
        "id": "AnU2VphhZj4q"
      },
      "source": [
        "def get_keypoints_dict(asan_folder, subfolder_list):\n",
        "  \"\"\"\n",
        "  Reads images from subfolders in asan folder and \n",
        "  returns the keypoints for images inside the subfolders.\n",
        "  Inputs:\n",
        "  asan_folder: Path where different rounds of an asan are saved as subfolders.\n",
        "  subfolder_list: list of subfolders in the asan folder.\n",
        "              If all images are saved in a single folder Enter a single name pass as a list.\n",
        "  \n",
        "  Outputs: the keypoints dictionary for images with key as the subfolder name.\n",
        "  \"\"\"\n",
        "  keypts_dict = {}\n",
        "  for name in subfolder_list:\n",
        "    print(name)\n",
        "    path = asan_folder + name + '/'\n",
        "    intermediate_keypoints = get_keypoints(path, global_e)\n",
        "    keypts_dict[name] = np.asarray(intermediate_keypoints)\n",
        "  return keypts_dict"
      ],
      "execution_count": null,
      "outputs": []
    },
    {
      "cell_type": "code",
      "metadata": {
        "id": "QeY7Mhh1Tfl1"
      },
      "source": [
        "# img_path = '/content/drive/MyDrive/Datasets/yoga_supervisor/extracted_images/surya_namaskar_1/'\n",
        "# sn1_18_keypts = get_keypoints_dict(img_path, surya_namaskar_1_rounds_list)\n",
        "# save_keypoints_dict('/content/drive/MyDrive/Datasets/yoga_supervisor/extracted_images/random_yoga_1_18_keypoints.pkl', sn1_18_keypts)"
      ],
      "execution_count": null,
      "outputs": []
    },
    {
      "cell_type": "markdown",
      "metadata": {
        "id": "FcK7Ahjrhi-U"
      },
      "source": [
        "Using the above functions we can obtain keypoints for images in the full video.  \n",
        "We now also have a way to make all the keypoints of same length (18) by entering (0,0) for the points that were not identified.    \n",
        "The next step is to segregate each joint and compare each to corresponding joint from the reference video.   \n"
      ]
    },
    {
      "cell_type": "markdown",
      "metadata": {
        "id": "s8WulrqYzpWm"
      },
      "source": [
        "## Step 3: Similarity Calculation\n",
        "### Approach Used\n",
        "Separate all joints from a video:  \n",
        "Make a list of joint 1 from all images in a video. Similarly for joint 2, 3, ...  \n",
        "The idea is to:\n",
        "1.  make a list of a single joint values w.r.t. time and compare it with the reference list of the same joint from the reference video.  \n",
        "2.  Do this for all joints.  \n",
        "3.  Get 18 similarity values (1 for the motion of each joint).  \n",
        "\n",
        "**This method uses motion of each joint through time for comparing similarity rather than position of each joint in image.**"
      ]
    },
    {
      "cell_type": "markdown",
      "metadata": {
        "id": "45flCFrriv7t"
      },
      "source": [
        "### Separate each joint"
      ]
    },
    {
      "cell_type": "code",
      "metadata": {
        "id": "8_H1UKLVGvI9"
      },
      "source": [
        "def get_joints_vs_time(vid_images_keypoints, num_joints = 18):\n",
        "  joints_to_time = {}\n",
        "  for i in range(num_joints):\n",
        "    joint = np.array(vid_images_keypoints)[:,i,:]\n",
        "    joints_to_time['joint_'+str(i)] = joint \n",
        "  return joints_to_time"
      ],
      "execution_count": null,
      "outputs": []
    },
    {
      "cell_type": "markdown",
      "metadata": {
        "id": "QKxKdbKg3lfm"
      },
      "source": [
        "### Calculate and plot similarity between joint movements in 2 videos"
      ]
    },
    {
      "cell_type": "code",
      "metadata": {
        "id": "E6UU4HOu4Cze"
      },
      "source": [
        "# Similarity function\n",
        "def get_joint_similarity(my_joint, ref_joint):\n",
        "  \"\"\"\n",
        "  Calculate similarity between movement of two joint \n",
        "  Input: reference and current joint keypoints' arrays passed\n",
        "  Returns similarity percentage.\n",
        "  \"\"\"\n",
        "  norm_1 = np.linalg.norm(my_joint)\n",
        "  norm_2 = np.linalg.norm(ref_joint)\n",
        "  normalized_my_joint = my_joint/norm_1\n",
        "  normalized_ref_joint = ref_joint/norm_2\n",
        "  \n",
        "  # Allows comparison even though the length of the arrays passed is different\n",
        "  similarity = 1 - dtw_ndim.distance(normalized_my_joint, \n",
        "                        normalized_ref_joint)\n",
        "  return similarity\n"
      ],
      "execution_count": null,
      "outputs": []
    },
    {
      "cell_type": "code",
      "metadata": {
        "id": "7g2MwlX9h3WI"
      },
      "source": [
        "def plot_joint_similarity(joints_sim):\n",
        "  \"\"\"\n",
        "  takes in the array of similarities in joint movement across two videos.\n",
        "  draws a line graph of `joints vs similarity`.\n",
        "  \"\"\"\n",
        "  plt.figure(figsize=(12,5))\n",
        "  num_joints =len(joints_sim)\n",
        "  min_val = 0\n",
        "  # Remove nan values before finding min else always nan will be min\n",
        "  non_nan_joints = joints_sim[~np.isnan(joints_sim)]\n",
        "  probable_min_val = int(np.min(non_nan_joints))\n",
        "  if( probable_min_val < 0):\n",
        "    min_val = probable_min_val - 10\n",
        "  # max_val = np.max(joints_sim) + 10\n",
        "  plt.axis([0,num_joints, min_val, 100])\n",
        "  plt.xlabel('Joint Number (keypoint no.)')\n",
        "  plt.ylabel('Similarity (%)')\n",
        "  plt.title('Similarity(%) vs Joint')\n",
        "  plt.plot(range(0,num_joints), joints_sim, \n",
        "           color='green', marker='o', linewidth=2, markersize=10)\n",
        "  plt.plot(range(0,num_joints),50*np.ones((num_joints)),\n",
        "           color='red', linestyle='dashed')"
      ],
      "execution_count": null,
      "outputs": []
    },
    {
      "cell_type": "code",
      "metadata": {
        "id": "2tNd8wOqBLmo"
      },
      "source": [
        "def compare_video_joints(my_vid_joints, ref_vid_joints):\n",
        "  joint_similarities = []\n",
        "  for joint_name in my_vid_joints.keys():\n",
        "    joint_similarity = get_joint_similarity(my_vid_joints[joint_name], ref_vid_joints[joint_name]) \n",
        "    joint_similarities.append(np.round(joint_similarity*100,3))\n",
        "\n",
        "  # nan values might appear in joints similarities if some joint is not detected across the whole video\n",
        "  joint_similarities = np.array(joint_similarities)\n",
        "  average_similarity = np.mean(joint_similarities[~np.isnan(joint_similarities)]) # To remove nan values before averaging\n",
        "  return average_similarity, joint_similarities"
      ],
      "execution_count": null,
      "outputs": []
    },
    {
      "cell_type": "markdown",
      "metadata": {
        "id": "B-oNqA8De1QK"
      },
      "source": [
        "## Step 4: Testing"
      ]
    },
    {
      "cell_type": "code",
      "metadata": {
        "id": "z4Y0n9wuq2GO"
      },
      "source": [
        "sn1_18_keypoints = load_keypoints_dict('/content/drive/MyDrive/Datasets/yoga_supervisor/extracted_images/surya_namaskar_1_18_keypoints.pkl')\n",
        "sn2_18_keypoints = load_keypoints_dict('/content/drive/MyDrive/Datasets/yoga_supervisor/extracted_images/surya_namaskar_2_18_keypoints.pkl')\n",
        "sn3_18_keypoints = load_keypoints_dict('/content/drive/MyDrive/Datasets/yoga_supervisor/extracted_images/surya_namaskar_3_18_keypoints.pkl')\n",
        "sn4_full_18_keypoints = load_keypoints_dict('/content/drive/MyDrive/Datasets/yoga_supervisor/extracted_images/surya_namaskar_4_full_18_keypoints.pkl')\n",
        "sn4_half_18_keypoints = load_keypoints_dict('/content/drive/MyDrive/Datasets/yoga_supervisor/extracted_images/surya_namaskar_4_half_18_keypoints.pkl')\n",
        "ry1_18_keypoints = load_keypoints_dict('/content/drive/MyDrive/Datasets/yoga_supervisor/extracted_images/random_yoga_1_18_keypoints.pkl')"
      ],
      "execution_count": null,
      "outputs": []
    },
    {
      "cell_type": "code",
      "metadata": {
        "colab": {
          "base_uri": "https://localhost:8080/",
          "height": 350
        },
        "id": "kKLk7RHxEpNn",
        "outputId": "cbdf32f2-654e-4557-fc5f-1b9c38bf74c2"
      },
      "source": [
        "test_joints_1 = get_joints_vs_time(sn4_full_18_keypoints['surya_namaskar_4_1'])\n",
        "test_joints_2 = get_joints_vs_time(sn4_full_18_keypoints['surya_namaskar_4_2'])\n",
        "test_avg, test_sim = compare_video_joints(test_joints_1, test_joints_2)\n",
        "test_avg, test_sim\n",
        "plot_joint_similarity(test_sim)"
      ],
      "execution_count": null,
      "outputs": [
        {
          "output_type": "display_data",
          "data": {
            "image/png": "[encoded data removed]",
            "text/plain": [
              "<Figure size 864x360 with 1 Axes>"
            ]
          },
          "metadata": {
            "tags": [],
            "needs_background": "light"
          }
        }
      ]
    },
    {
      "cell_type": "markdown",
      "metadata": {
        "id": "jTjvhbjsf7gO"
      },
      "source": [
        "The sharp dip on joint 14 and 16 above is because these joints were identified in very few images"
      ]
    },
    {
      "cell_type": "code",
      "metadata": {
        "colab": {
          "base_uri": "https://localhost:8080/",
          "height": 350
        },
        "id": "xMUi8iewv0GP",
        "outputId": "f4e253da-617f-4312-a4fd-d41452ef90c7"
      },
      "source": [
        "test_joints_1 = get_joints_vs_time(sn1_18_keypoints['surya_namaskar_1_1_L'])\n",
        "test_joints_2 = get_joints_vs_time(sn1_18_keypoints['surya_namaskar_1_2_L'])\n",
        "test_avg, test_sim = compare_video_joints(test_joints_1, test_joints_2)\n",
        "test_avg, test_sim\n",
        "plot_joint_similarity(test_sim)"
      ],
      "execution_count": null,
      "outputs": [
        {
          "output_type": "display_data",
          "data": {
            "image/png": "[encoded data removed]",
            "text/plain": [
              "<Figure size 864x360 with 1 Axes>"
            ]
          },
          "metadata": {
            "tags": [],
            "needs_background": "light"
          }
        }
      ]
    },
    {
      "cell_type": "code",
      "metadata": {
        "colab": {
          "base_uri": "https://localhost:8080/"
        },
        "id": "6SrDYf5gfe8R",
        "outputId": "2ddf6750-90fc-4cbc-ea44-0e1da33cd8b8"
      },
      "source": [
        "test_joints_1 = get_joints_vs_time(sn1_18_keypoints['surya_namaskar_1_2_R'])\n",
        "test_joints_2 = get_joints_vs_time(ry1_18_keypoints['random_yoga_1_2'])\n",
        "test_avg, test_sim = compare_video_joints(test_joints_1, test_joints_2)\n",
        "test_avg, test_sim"
      ],
      "execution_count": null,
      "outputs": [
        {
          "output_type": "stream",
          "text": [
            "/usr/local/lib/python3.7/dist-packages/ipykernel_launcher.py:12: RuntimeWarning: invalid value encountered in true_divide\n",
            "  if sys.path[0] == '':\n"
          ],
          "name": "stderr"
        },
        {
          "output_type": "execute_result",
          "data": {
            "text/plain": [
              "(7.006352941176471,\n",
              " array([  7.57 ,   4.74 ,   7.825,  10.967,  14.795,   5.127,  16.428,\n",
              "         -3.012,  21.056,   0.587, -25.921,   8.552,  -1.249,     nan,\n",
              "         13.235,  10.465,  11.454,  16.489]))"
            ]
          },
          "metadata": {
            "tags": []
          },
          "execution_count": 161
        }
      ]
    },
    {
      "cell_type": "markdown",
      "metadata": {
        "id": "FhWHvTv_gyt7"
      },
      "source": [
        "**The nan in the similarities above shows that the joint 13 wasn't detected for any of the images in the video.**"
      ]
    },
    {
      "cell_type": "code",
      "metadata": {
        "colab": {
          "base_uri": "https://localhost:8080/",
          "height": 350
        },
        "id": "ZEhe0CdQfe8S",
        "outputId": "8d6533b3-71a6-4b15-b6b9-dd04e2a973eb"
      },
      "source": [
        "plot_joint_similarity(test_sim)"
      ],
      "execution_count": null,
      "outputs": [
        {
          "output_type": "display_data",
          "data": {
            "image/png": "[encoded data removed]",
            "text/plain": [
              "<Figure size 864x360 with 1 Axes>"
            ]
          },
          "metadata": {
            "tags": [],
            "needs_background": "light"
          }
        }
      ]
    },
    {
      "cell_type": "markdown",
      "metadata": {
        "id": "X6YXyLt_gVN8"
      },
      "source": [
        "In the above graph we can clearly see that when we compare 2 different yogas the difference in joint movements can be clearly seen.  \n",
        "The gap between joint 12 and 14 is because joint 13 wasn't detected in any of the images."
      ]
    },
    {
      "cell_type": "markdown",
      "metadata": {
        "id": "p-EGJD4YgxRz"
      },
      "source": [
        "## Conclusion \n",
        "From the above compared examples we can clearly say that our method is successfully showing higher similarity in similar videos and lower similarity in different videos.   \n",
        "\n",
        "This gives us similarities for each joint w.r.t. time.  \n",
        "Now we can alert the user when similarity of one of his/her joints is less than a particular threshold to the reference video.  "
      ]
    },
    {
      "cell_type": "markdown",
      "metadata": {
        "id": "blJSFK_lMgGF"
      },
      "source": [
        "### Drawbacks/ Challenges\n",
        "\n",
        "\n",
        "1.   Cannot be used in realtime because:  \n",
        "      a.  Need the value of joints for a period of time for comparison using Dynamic Time Warping.  \n",
        "      b.  Getting keypoints from the image is a slow process (<1fps). \n",
        "\n",
        "\n",
        "2.   People can be at different locations in the frame but since we are using position of joints to measure similarity/correctness this can affect the similarity value. This effect is undesirable.\n",
        "\n",
        "        \n",
        "3.   Need a better way to deal with undetected keypoints. Adding (0,0) adds Noise/bias. (assumes that the missing point didn't have any similarity with any other points)\n",
        "\n",
        "\n",
        "4.   Pose estimation done using tf_pose library which gives good results but misses out many times. This also leads to dissimilarities that might not be true. Hence, we need a method to ignore these or a better algorithm for pose estimation. Posenet would work but it doesn't have a tf2 implementation.\n",
        "\n",
        "\n",
        "5.   This method of comparison depends a lot on camera angles. Hence, I want to reduce that dependency too.  "
      ]
    },
    {
      "cell_type": "markdown",
      "metadata": {
        "id": "SLl9CUH6OG7J"
      },
      "source": [
        "### Possible improvements\n",
        "\n",
        "Things that can be tried:\n",
        "1.   We can use Deep Learning based technique to check what is similar and what is different (eg. technique used in face identification)\n",
        "2.   Use a better algorithm for keypoint detection (Posenet?).\n",
        "3.   Optimize all steps for better performance.\n",
        "4.   Try using preprocessing techniques before pose estimation to check if it gives better keypoint detection.\n",
        "5.   Try using python-dtw library instead of dtaidistance.\n",
        "\n",
        "**References and some good resources for help with improvements**\n",
        "*  [Some good implementations of Pose Detection](https://paperswithcode.com/task/keypoint-detection)\n",
        "*  [Usage explanation for tf_pose](https://towardsdatascience.com/realtime-multiple-person-2d-pose-estimation-using-tensorflow2-x-93e4c156d45f)\n",
        "*  [Documentation-dtaidistance](https://towardsdatascience.com/realtime-multiple-person-2d-pose-estimation-using-tensorflow2-x-93e4c156d45f)\n",
        "*  [OpenPose Tutorials](https://www.youtube.com/watch?v=IlsXQPOF9IE&list=PL_Nji0JOuXg24bHB60SB2TwF0PpwhJkCF&index=5)\n",
        "*  [Great explanation of Human Pose Comparison](https://medium.com/analytics-vidhya/human-pose-comparison-and-action-scoring-using-deep-learning-opencv-python-c2bdf0ddecba)"
      ]
    }
  ]
}